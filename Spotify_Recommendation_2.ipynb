{
  "nbformat": 4,
  "nbformat_minor": 0,
  "metadata": {
    "colab": {
      "provenance": [],
      "authorship_tag": "ABX9TyNWgstvxxg44n14I+FHV4Yg",
      "include_colab_link": true
    },
    "kernelspec": {
      "name": "python3",
      "display_name": "Python 3"
    },
    "language_info": {
      "name": "python"
    },
    "widgets": {
      "application/vnd.jupyter.widget-state+json": {
        "5b7040d181d040e2b00d66b695f5777a": {
          "model_module": "@jupyter-widgets/controls",
          "model_name": "HBoxModel",
          "model_module_version": "1.5.0",
          "state": {
            "_dom_classes": [],
            "_model_module": "@jupyter-widgets/controls",
            "_model_module_version": "1.5.0",
            "_model_name": "HBoxModel",
            "_view_count": null,
            "_view_module": "@jupyter-widgets/controls",
            "_view_module_version": "1.5.0",
            "_view_name": "HBoxView",
            "box_style": "",
            "children": [
              "IPY_MODEL_c4842a841d90402d8975ee8caac77b78",
              "IPY_MODEL_92c8893ecbda4695916d988b291af066",
              "IPY_MODEL_0b3b0204d9884b12bffd0ee33a0c0ede"
            ],
            "layout": "IPY_MODEL_50e1e6709d7443b68849fa207616f962"
          }
        },
        "c4842a841d90402d8975ee8caac77b78": {
          "model_module": "@jupyter-widgets/controls",
          "model_name": "HTMLModel",
          "model_module_version": "1.5.0",
          "state": {
            "_dom_classes": [],
            "_model_module": "@jupyter-widgets/controls",
            "_model_module_version": "1.5.0",
            "_model_name": "HTMLModel",
            "_view_count": null,
            "_view_module": "@jupyter-widgets/controls",
            "_view_module_version": "1.5.0",
            "_view_name": "HTMLView",
            "description": "",
            "description_tooltip": null,
            "layout": "IPY_MODEL_9a703c02a38d4a2898ae18b76a74fdf7",
            "placeholder": "​",
            "style": "IPY_MODEL_2376c9ff16494f77a3371e135f349720",
            "value": "100%"
          }
        },
        "92c8893ecbda4695916d988b291af066": {
          "model_module": "@jupyter-widgets/controls",
          "model_name": "FloatProgressModel",
          "model_module_version": "1.5.0",
          "state": {
            "_dom_classes": [],
            "_model_module": "@jupyter-widgets/controls",
            "_model_module_version": "1.5.0",
            "_model_name": "FloatProgressModel",
            "_view_count": null,
            "_view_module": "@jupyter-widgets/controls",
            "_view_module_version": "1.5.0",
            "_view_name": "ProgressView",
            "bar_style": "success",
            "description": "",
            "description_tooltip": null,
            "layout": "IPY_MODEL_5faa559c8a0a44ad810c812607a36a22",
            "max": 50,
            "min": 0,
            "orientation": "horizontal",
            "style": "IPY_MODEL_93e70d6b294c4ceab86943f137379b3b",
            "value": 50
          }
        },
        "0b3b0204d9884b12bffd0ee33a0c0ede": {
          "model_module": "@jupyter-widgets/controls",
          "model_name": "HTMLModel",
          "model_module_version": "1.5.0",
          "state": {
            "_dom_classes": [],
            "_model_module": "@jupyter-widgets/controls",
            "_model_module_version": "1.5.0",
            "_model_name": "HTMLModel",
            "_view_count": null,
            "_view_module": "@jupyter-widgets/controls",
            "_view_module_version": "1.5.0",
            "_view_name": "HTMLView",
            "description": "",
            "description_tooltip": null,
            "layout": "IPY_MODEL_4de0c5541e6b4b1e83fcd384b340c9ff",
            "placeholder": "​",
            "style": "IPY_MODEL_48b7a53f68d84083bf631ea6847023dc",
            "value": " 50/50 [00:40&lt;00:00,  1.36it/s]"
          }
        },
        "50e1e6709d7443b68849fa207616f962": {
          "model_module": "@jupyter-widgets/base",
          "model_name": "LayoutModel",
          "model_module_version": "1.2.0",
          "state": {
            "_model_module": "@jupyter-widgets/base",
            "_model_module_version": "1.2.0",
            "_model_name": "LayoutModel",
            "_view_count": null,
            "_view_module": "@jupyter-widgets/base",
            "_view_module_version": "1.2.0",
            "_view_name": "LayoutView",
            "align_content": null,
            "align_items": null,
            "align_self": null,
            "border": null,
            "bottom": null,
            "display": null,
            "flex": null,
            "flex_flow": null,
            "grid_area": null,
            "grid_auto_columns": null,
            "grid_auto_flow": null,
            "grid_auto_rows": null,
            "grid_column": null,
            "grid_gap": null,
            "grid_row": null,
            "grid_template_areas": null,
            "grid_template_columns": null,
            "grid_template_rows": null,
            "height": null,
            "justify_content": null,
            "justify_items": null,
            "left": null,
            "margin": null,
            "max_height": null,
            "max_width": null,
            "min_height": null,
            "min_width": null,
            "object_fit": null,
            "object_position": null,
            "order": null,
            "overflow": null,
            "overflow_x": null,
            "overflow_y": null,
            "padding": null,
            "right": null,
            "top": null,
            "visibility": null,
            "width": null
          }
        },
        "9a703c02a38d4a2898ae18b76a74fdf7": {
          "model_module": "@jupyter-widgets/base",
          "model_name": "LayoutModel",
          "model_module_version": "1.2.0",
          "state": {
            "_model_module": "@jupyter-widgets/base",
            "_model_module_version": "1.2.0",
            "_model_name": "LayoutModel",
            "_view_count": null,
            "_view_module": "@jupyter-widgets/base",
            "_view_module_version": "1.2.0",
            "_view_name": "LayoutView",
            "align_content": null,
            "align_items": null,
            "align_self": null,
            "border": null,
            "bottom": null,
            "display": null,
            "flex": null,
            "flex_flow": null,
            "grid_area": null,
            "grid_auto_columns": null,
            "grid_auto_flow": null,
            "grid_auto_rows": null,
            "grid_column": null,
            "grid_gap": null,
            "grid_row": null,
            "grid_template_areas": null,
            "grid_template_columns": null,
            "grid_template_rows": null,
            "height": null,
            "justify_content": null,
            "justify_items": null,
            "left": null,
            "margin": null,
            "max_height": null,
            "max_width": null,
            "min_height": null,
            "min_width": null,
            "object_fit": null,
            "object_position": null,
            "order": null,
            "overflow": null,
            "overflow_x": null,
            "overflow_y": null,
            "padding": null,
            "right": null,
            "top": null,
            "visibility": null,
            "width": null
          }
        },
        "2376c9ff16494f77a3371e135f349720": {
          "model_module": "@jupyter-widgets/controls",
          "model_name": "DescriptionStyleModel",
          "model_module_version": "1.5.0",
          "state": {
            "_model_module": "@jupyter-widgets/controls",
            "_model_module_version": "1.5.0",
            "_model_name": "DescriptionStyleModel",
            "_view_count": null,
            "_view_module": "@jupyter-widgets/base",
            "_view_module_version": "1.2.0",
            "_view_name": "StyleView",
            "description_width": ""
          }
        },
        "5faa559c8a0a44ad810c812607a36a22": {
          "model_module": "@jupyter-widgets/base",
          "model_name": "LayoutModel",
          "model_module_version": "1.2.0",
          "state": {
            "_model_module": "@jupyter-widgets/base",
            "_model_module_version": "1.2.0",
            "_model_name": "LayoutModel",
            "_view_count": null,
            "_view_module": "@jupyter-widgets/base",
            "_view_module_version": "1.2.0",
            "_view_name": "LayoutView",
            "align_content": null,
            "align_items": null,
            "align_self": null,
            "border": null,
            "bottom": null,
            "display": null,
            "flex": null,
            "flex_flow": null,
            "grid_area": null,
            "grid_auto_columns": null,
            "grid_auto_flow": null,
            "grid_auto_rows": null,
            "grid_column": null,
            "grid_gap": null,
            "grid_row": null,
            "grid_template_areas": null,
            "grid_template_columns": null,
            "grid_template_rows": null,
            "height": null,
            "justify_content": null,
            "justify_items": null,
            "left": null,
            "margin": null,
            "max_height": null,
            "max_width": null,
            "min_height": null,
            "min_width": null,
            "object_fit": null,
            "object_position": null,
            "order": null,
            "overflow": null,
            "overflow_x": null,
            "overflow_y": null,
            "padding": null,
            "right": null,
            "top": null,
            "visibility": null,
            "width": null
          }
        },
        "93e70d6b294c4ceab86943f137379b3b": {
          "model_module": "@jupyter-widgets/controls",
          "model_name": "ProgressStyleModel",
          "model_module_version": "1.5.0",
          "state": {
            "_model_module": "@jupyter-widgets/controls",
            "_model_module_version": "1.5.0",
            "_model_name": "ProgressStyleModel",
            "_view_count": null,
            "_view_module": "@jupyter-widgets/base",
            "_view_module_version": "1.2.0",
            "_view_name": "StyleView",
            "bar_color": null,
            "description_width": ""
          }
        },
        "4de0c5541e6b4b1e83fcd384b340c9ff": {
          "model_module": "@jupyter-widgets/base",
          "model_name": "LayoutModel",
          "model_module_version": "1.2.0",
          "state": {
            "_model_module": "@jupyter-widgets/base",
            "_model_module_version": "1.2.0",
            "_model_name": "LayoutModel",
            "_view_count": null,
            "_view_module": "@jupyter-widgets/base",
            "_view_module_version": "1.2.0",
            "_view_name": "LayoutView",
            "align_content": null,
            "align_items": null,
            "align_self": null,
            "border": null,
            "bottom": null,
            "display": null,
            "flex": null,
            "flex_flow": null,
            "grid_area": null,
            "grid_auto_columns": null,
            "grid_auto_flow": null,
            "grid_auto_rows": null,
            "grid_column": null,
            "grid_gap": null,
            "grid_row": null,
            "grid_template_areas": null,
            "grid_template_columns": null,
            "grid_template_rows": null,
            "height": null,
            "justify_content": null,
            "justify_items": null,
            "left": null,
            "margin": null,
            "max_height": null,
            "max_width": null,
            "min_height": null,
            "min_width": null,
            "object_fit": null,
            "object_position": null,
            "order": null,
            "overflow": null,
            "overflow_x": null,
            "overflow_y": null,
            "padding": null,
            "right": null,
            "top": null,
            "visibility": null,
            "width": null
          }
        },
        "48b7a53f68d84083bf631ea6847023dc": {
          "model_module": "@jupyter-widgets/controls",
          "model_name": "DescriptionStyleModel",
          "model_module_version": "1.5.0",
          "state": {
            "_model_module": "@jupyter-widgets/controls",
            "_model_module_version": "1.5.0",
            "_model_name": "DescriptionStyleModel",
            "_view_count": null,
            "_view_module": "@jupyter-widgets/base",
            "_view_module_version": "1.2.0",
            "_view_name": "StyleView",
            "description_width": ""
          }
        }
      }
    }
  },
  "cells": [
    {
      "cell_type": "markdown",
      "metadata": {
        "id": "view-in-github",
        "colab_type": "text"
      },
      "source": [
        "<a href=\"https://colab.research.google.com/github/Aditya2600/Music-Recommendation-System/blob/main/Spotify_Recommendation_2.ipynb\" target=\"_parent\"><img src=\"https://colab.research.google.com/assets/colab-badge.svg\" alt=\"Open In Colab\"/></a>"
      ]
    },
    {
      "cell_type": "code",
      "source": [
        "pip install seaborn"
      ],
      "metadata": {
        "colab": {
          "base_uri": "https://localhost:8080/"
        },
        "id": "Qgp0GPwunNA7",
        "outputId": "356b5dcf-7b7a-4a8e-ac0f-ff934b600e25"
      },
      "execution_count": 1,
      "outputs": [
        {
          "output_type": "stream",
          "name": "stdout",
          "text": [
            "Requirement already satisfied: seaborn in /usr/local/lib/python3.11/dist-packages (0.13.2)\n",
            "Requirement already satisfied: numpy!=1.24.0,>=1.20 in /usr/local/lib/python3.11/dist-packages (from seaborn) (1.26.4)\n",
            "Requirement already satisfied: pandas>=1.2 in /usr/local/lib/python3.11/dist-packages (from seaborn) (2.2.2)\n",
            "Requirement already satisfied: matplotlib!=3.6.1,>=3.4 in /usr/local/lib/python3.11/dist-packages (from seaborn) (3.10.0)\n",
            "Requirement already satisfied: contourpy>=1.0.1 in /usr/local/lib/python3.11/dist-packages (from matplotlib!=3.6.1,>=3.4->seaborn) (1.3.1)\n",
            "Requirement already satisfied: cycler>=0.10 in /usr/local/lib/python3.11/dist-packages (from matplotlib!=3.6.1,>=3.4->seaborn) (0.12.1)\n",
            "Requirement already satisfied: fonttools>=4.22.0 in /usr/local/lib/python3.11/dist-packages (from matplotlib!=3.6.1,>=3.4->seaborn) (4.55.7)\n",
            "Requirement already satisfied: kiwisolver>=1.3.1 in /usr/local/lib/python3.11/dist-packages (from matplotlib!=3.6.1,>=3.4->seaborn) (1.4.8)\n",
            "Requirement already satisfied: packaging>=20.0 in /usr/local/lib/python3.11/dist-packages (from matplotlib!=3.6.1,>=3.4->seaborn) (24.2)\n",
            "Requirement already satisfied: pillow>=8 in /usr/local/lib/python3.11/dist-packages (from matplotlib!=3.6.1,>=3.4->seaborn) (11.1.0)\n",
            "Requirement already satisfied: pyparsing>=2.3.1 in /usr/local/lib/python3.11/dist-packages (from matplotlib!=3.6.1,>=3.4->seaborn) (3.2.1)\n",
            "Requirement already satisfied: python-dateutil>=2.7 in /usr/local/lib/python3.11/dist-packages (from matplotlib!=3.6.1,>=3.4->seaborn) (2.8.2)\n",
            "Requirement already satisfied: pytz>=2020.1 in /usr/local/lib/python3.11/dist-packages (from pandas>=1.2->seaborn) (2024.2)\n",
            "Requirement already satisfied: tzdata>=2022.7 in /usr/local/lib/python3.11/dist-packages (from pandas>=1.2->seaborn) (2025.1)\n",
            "Requirement already satisfied: six>=1.5 in /usr/local/lib/python3.11/dist-packages (from python-dateutil>=2.7->matplotlib!=3.6.1,>=3.4->seaborn) (1.17.0)\n"
          ]
        }
      ]
    },
    {
      "cell_type": "code",
      "source": [
        "!pip install scikit-surprise"
      ],
      "metadata": {
        "colab": {
          "base_uri": "https://localhost:8080/"
        },
        "id": "A8Ioq52rmpqf",
        "outputId": "71f5a739-22af-441b-f8dc-15e33d4147fe"
      },
      "execution_count": 2,
      "outputs": [
        {
          "output_type": "stream",
          "name": "stdout",
          "text": [
            "Requirement already satisfied: scikit-surprise in /usr/local/lib/python3.11/dist-packages (1.1.4)\n",
            "Requirement already satisfied: joblib>=1.2.0 in /usr/local/lib/python3.11/dist-packages (from scikit-surprise) (1.4.2)\n",
            "Requirement already satisfied: numpy>=1.19.5 in /usr/local/lib/python3.11/dist-packages (from scikit-surprise) (1.26.4)\n",
            "Requirement already satisfied: scipy>=1.6.0 in /usr/local/lib/python3.11/dist-packages (from scikit-surprise) (1.13.1)\n"
          ]
        }
      ]
    },
    {
      "cell_type": "code",
      "source": [
        "!pip install implicit"
      ],
      "metadata": {
        "colab": {
          "base_uri": "https://localhost:8080/"
        },
        "id": "rDaivNUQmaaM",
        "outputId": "53232efb-2e7b-4324-f52a-c1d3be5dcf70"
      },
      "execution_count": 3,
      "outputs": [
        {
          "output_type": "stream",
          "name": "stdout",
          "text": [
            "Requirement already satisfied: implicit in /usr/local/lib/python3.11/dist-packages (0.7.2)\n",
            "Requirement already satisfied: numpy>=1.17.0 in /usr/local/lib/python3.11/dist-packages (from implicit) (1.26.4)\n",
            "Requirement already satisfied: scipy>=0.16 in /usr/local/lib/python3.11/dist-packages (from implicit) (1.13.1)\n",
            "Requirement already satisfied: tqdm>=4.27 in /usr/local/lib/python3.11/dist-packages (from implicit) (4.67.1)\n",
            "Requirement already satisfied: threadpoolctl in /usr/local/lib/python3.11/dist-packages (from implicit) (3.5.0)\n"
          ]
        }
      ]
    },
    {
      "cell_type": "code",
      "execution_count": 4,
      "metadata": {
        "colab": {
          "base_uri": "https://localhost:8080/",
          "height": 34
        },
        "id": "Vae6JKNklmti",
        "outputId": "d5ae2de2-c57f-4c57-93e2-2550f2829ff1"
      },
      "outputs": [
        {
          "output_type": "display_data",
          "data": {
            "text/plain": [
              "<IPython.core.display.HTML object>"
            ],
            "text/html": [
              "<style> div.notebook-container { width:95%; } </style>"
            ]
          },
          "metadata": {}
        },
        {
          "output_type": "display_data",
          "data": {
            "text/html": [
              "        <script type=\"text/javascript\">\n",
              "        window.PlotlyConfig = {MathJaxConfig: 'local'};\n",
              "        if (window.MathJax && window.MathJax.Hub && window.MathJax.Hub.Config) {window.MathJax.Hub.Config({SVG: {font: \"STIX-Web\"}});}\n",
              "        if (typeof require !== 'undefined') {\n",
              "        require.undef(\"plotly\");\n",
              "        requirejs.config({\n",
              "            paths: {\n",
              "                'plotly': ['https://cdn.plot.ly/plotly-2.35.2.min']\n",
              "            }\n",
              "        });\n",
              "        require(['plotly'], function(Plotly) {\n",
              "            window._Plotly = Plotly;\n",
              "        });\n",
              "        }\n",
              "        </script>\n",
              "        "
            ]
          },
          "metadata": {}
        },
        {
          "output_type": "stream",
          "name": "stdout",
          "text": [
            "✅ Environment setup complete!\n"
          ]
        }
      ],
      "source": [
        "# Enable autoreload\n",
        "%load_ext autoreload\n",
        "%autoreload 2\n",
        "\n",
        "# Standard libraries\n",
        "import os\n",
        "import sys\n",
        "import gc\n",
        "import warnings\n",
        "import random\n",
        "import time\n",
        "from timeit import default_timer as timer\n",
        "from collections import defaultdict\n",
        "\n",
        "# Numerical & Data Handling\n",
        "import numpy as np\n",
        "import pandas as pd\n",
        "import scipy.sparse as sparse\n",
        "\n",
        "# Visualization Libraries\n",
        "import matplotlib as mpl\n",
        "import matplotlib.pyplot as plt\n",
        "import seaborn as sns\n",
        "import plotly.express as px\n",
        "import plotly.graph_objs as go\n",
        "import plotly.figure_factory as ff\n",
        "from plotly import tools\n",
        "from plotly.offline import download_plotlyjs, init_notebook_mode, plot, iplot\n",
        "from IPython.display import display, HTML\n",
        "from IPython.core.interactiveshell import InteractiveShell\n",
        "\n",
        "# Machine Learning & Recommendation Libraries\n",
        "import implicit\n",
        "from tqdm.notebook import tqdm\n",
        "from surprise import KNNWithMeans, KNNBasic, KNNWithZScore, Dataset, accuracy, Reader\n",
        "\n",
        "# Suppress Warnings\n",
        "warnings.filterwarnings(\"ignore\")\n",
        "\n",
        "# IPython settings for better interactive display\n",
        "InteractiveShell.ast_node_interactivity = \"all\"\n",
        "\n",
        "# Pandas display options\n",
        "pd.set_option('display.max_rows', None)\n",
        "pd.set_option('display.max_columns', None)\n",
        "pd.set_option('display.max_colwidth', None)\n",
        "\n",
        "# Jupyter Notebook Styling\n",
        "display(HTML(data=\"\"\"<style> div.notebook-container { width:95%; } </style>\"\"\"))\n",
        "\n",
        "# ✅ Corrected Plotting Styles\n",
        "init_notebook_mode(connected=True)\n",
        "plt.style.use('fivethirtyeight')  # Matplotlib built-in style\n",
        "sns.set(context=\"notebook\", palette=\"dark\", style='whitegrid', color_codes=True)\n",
        "\n",
        "# NumPy print settings\n",
        "np.set_printoptions(precision=5, suppress=True)\n",
        "\n",
        "# Get the current working directory\n",
        "path_main = os.getcwd()\n",
        "\n",
        "# Print confirmation\n",
        "print(\"✅ Environment setup complete!\")"
      ]
    },
    {
      "cell_type": "code",
      "source": [
        "# File path for the dataset\n",
        "lastfm_plays_file = '/content/usersha1-artmbid-artname-plays.tsv'\n",
        "\n",
        "# Load the dataset\n",
        "df = pd.read_csv(\n",
        "    lastfm_plays_file,  # Corrected variable name\n",
        "    delimiter=\"\\t\",  # Corrected delimiter\n",
        "    header=None,\n",
        "    usecols=[0, 2, 3],  # Fixed brackets and indices\n",
        "    names=['userId', 'artistName', 'listens']  # Fixed incorrect quotes\n",
        ")\n",
        "\n",
        "# Get unique users and artists\n",
        "artists_list = list(df['artistName'].unique())\n",
        "users_list = list(df['userId'].unique())\n",
        "\n",
        "# Display first 2 rows\n",
        "display(df.head(2))\n",
        "\n",
        "# Print dataset details\n",
        "print(f'{df.shape[0]} user-artist interactions')\n",
        "print(f'Number of unique users - {len(users_list)}')\n",
        "print(f'Number of unique artists - {len(artists_list)}')\n",
        "print('We can see that we have ~175 million records from interactions')\n",
        "print('We can also see that we have far more users than there are artists')"
      ],
      "metadata": {
        "colab": {
          "base_uri": "https://localhost:8080/",
          "height": 196
        },
        "id": "3wkzP-TgmDbp",
        "outputId": "ce53eedf-3aa2-4d18-c009-3d2bd58cd29c"
      },
      "execution_count": 5,
      "outputs": [
        {
          "output_type": "display_data",
          "data": {
            "text/plain": [
              "                                     userId       artistName  listens\n",
              "0  00000c289a1829a808ac09c00daf10bc3c4e223b  betty blowtorch   2137.0\n",
              "1  00000c289a1829a808ac09c00daf10bc3c4e223b        die Ärzte   1099.0"
            ],
            "text/html": [
              "\n",
              "  <div id=\"df-38dcb992-69f0-4e85-9709-8fbf0678420d\" class=\"colab-df-container\">\n",
              "    <div>\n",
              "<style scoped>\n",
              "    .dataframe tbody tr th:only-of-type {\n",
              "        vertical-align: middle;\n",
              "    }\n",
              "\n",
              "    .dataframe tbody tr th {\n",
              "        vertical-align: top;\n",
              "    }\n",
              "\n",
              "    .dataframe thead th {\n",
              "        text-align: right;\n",
              "    }\n",
              "</style>\n",
              "<table border=\"1\" class=\"dataframe\">\n",
              "  <thead>\n",
              "    <tr style=\"text-align: right;\">\n",
              "      <th></th>\n",
              "      <th>userId</th>\n",
              "      <th>artistName</th>\n",
              "      <th>listens</th>\n",
              "    </tr>\n",
              "  </thead>\n",
              "  <tbody>\n",
              "    <tr>\n",
              "      <th>0</th>\n",
              "      <td>00000c289a1829a808ac09c00daf10bc3c4e223b</td>\n",
              "      <td>betty blowtorch</td>\n",
              "      <td>2137.0</td>\n",
              "    </tr>\n",
              "    <tr>\n",
              "      <th>1</th>\n",
              "      <td>00000c289a1829a808ac09c00daf10bc3c4e223b</td>\n",
              "      <td>die Ärzte</td>\n",
              "      <td>1099.0</td>\n",
              "    </tr>\n",
              "  </tbody>\n",
              "</table>\n",
              "</div>\n",
              "    <div class=\"colab-df-buttons\">\n",
              "\n",
              "  <div class=\"colab-df-container\">\n",
              "    <button class=\"colab-df-convert\" onclick=\"convertToInteractive('df-38dcb992-69f0-4e85-9709-8fbf0678420d')\"\n",
              "            title=\"Convert this dataframe to an interactive table.\"\n",
              "            style=\"display:none;\">\n",
              "\n",
              "  <svg xmlns=\"http://www.w3.org/2000/svg\" height=\"24px\" viewBox=\"0 -960 960 960\">\n",
              "    <path d=\"M120-120v-720h720v720H120Zm60-500h600v-160H180v160Zm220 220h160v-160H400v160Zm0 220h160v-160H400v160ZM180-400h160v-160H180v160Zm440 0h160v-160H620v160ZM180-180h160v-160H180v160Zm440 0h160v-160H620v160Z\"/>\n",
              "  </svg>\n",
              "    </button>\n",
              "\n",
              "  <style>\n",
              "    .colab-df-container {\n",
              "      display:flex;\n",
              "      gap: 12px;\n",
              "    }\n",
              "\n",
              "    .colab-df-convert {\n",
              "      background-color: #E8F0FE;\n",
              "      border: none;\n",
              "      border-radius: 50%;\n",
              "      cursor: pointer;\n",
              "      display: none;\n",
              "      fill: #1967D2;\n",
              "      height: 32px;\n",
              "      padding: 0 0 0 0;\n",
              "      width: 32px;\n",
              "    }\n",
              "\n",
              "    .colab-df-convert:hover {\n",
              "      background-color: #E2EBFA;\n",
              "      box-shadow: 0px 1px 2px rgba(60, 64, 67, 0.3), 0px 1px 3px 1px rgba(60, 64, 67, 0.15);\n",
              "      fill: #174EA6;\n",
              "    }\n",
              "\n",
              "    .colab-df-buttons div {\n",
              "      margin-bottom: 4px;\n",
              "    }\n",
              "\n",
              "    [theme=dark] .colab-df-convert {\n",
              "      background-color: #3B4455;\n",
              "      fill: #D2E3FC;\n",
              "    }\n",
              "\n",
              "    [theme=dark] .colab-df-convert:hover {\n",
              "      background-color: #434B5C;\n",
              "      box-shadow: 0px 1px 3px 1px rgba(0, 0, 0, 0.15);\n",
              "      filter: drop-shadow(0px 1px 2px rgba(0, 0, 0, 0.3));\n",
              "      fill: #FFFFFF;\n",
              "    }\n",
              "  </style>\n",
              "\n",
              "    <script>\n",
              "      const buttonEl =\n",
              "        document.querySelector('#df-38dcb992-69f0-4e85-9709-8fbf0678420d button.colab-df-convert');\n",
              "      buttonEl.style.display =\n",
              "        google.colab.kernel.accessAllowed ? 'block' : 'none';\n",
              "\n",
              "      async function convertToInteractive(key) {\n",
              "        const element = document.querySelector('#df-38dcb992-69f0-4e85-9709-8fbf0678420d');\n",
              "        const dataTable =\n",
              "          await google.colab.kernel.invokeFunction('convertToInteractive',\n",
              "                                                    [key], {});\n",
              "        if (!dataTable) return;\n",
              "\n",
              "        const docLinkHtml = 'Like what you see? Visit the ' +\n",
              "          '<a target=\"_blank\" href=https://colab.research.google.com/notebooks/data_table.ipynb>data table notebook</a>'\n",
              "          + ' to learn more about interactive tables.';\n",
              "        element.innerHTML = '';\n",
              "        dataTable['output_type'] = 'display_data';\n",
              "        await google.colab.output.renderOutput(dataTable, element);\n",
              "        const docLink = document.createElement('div');\n",
              "        docLink.innerHTML = docLinkHtml;\n",
              "        element.appendChild(docLink);\n",
              "      }\n",
              "    </script>\n",
              "  </div>\n",
              "\n",
              "\n",
              "<div id=\"df-4475e2ac-6848-407d-8db2-22ea1d9d465f\">\n",
              "  <button class=\"colab-df-quickchart\" onclick=\"quickchart('df-4475e2ac-6848-407d-8db2-22ea1d9d465f')\"\n",
              "            title=\"Suggest charts\"\n",
              "            style=\"display:none;\">\n",
              "\n",
              "<svg xmlns=\"http://www.w3.org/2000/svg\" height=\"24px\"viewBox=\"0 0 24 24\"\n",
              "     width=\"24px\">\n",
              "    <g>\n",
              "        <path d=\"M19 3H5c-1.1 0-2 .9-2 2v14c0 1.1.9 2 2 2h14c1.1 0 2-.9 2-2V5c0-1.1-.9-2-2-2zM9 17H7v-7h2v7zm4 0h-2V7h2v10zm4 0h-2v-4h2v4z\"/>\n",
              "    </g>\n",
              "</svg>\n",
              "  </button>\n",
              "\n",
              "<style>\n",
              "  .colab-df-quickchart {\n",
              "      --bg-color: #E8F0FE;\n",
              "      --fill-color: #1967D2;\n",
              "      --hover-bg-color: #E2EBFA;\n",
              "      --hover-fill-color: #174EA6;\n",
              "      --disabled-fill-color: #AAA;\n",
              "      --disabled-bg-color: #DDD;\n",
              "  }\n",
              "\n",
              "  [theme=dark] .colab-df-quickchart {\n",
              "      --bg-color: #3B4455;\n",
              "      --fill-color: #D2E3FC;\n",
              "      --hover-bg-color: #434B5C;\n",
              "      --hover-fill-color: #FFFFFF;\n",
              "      --disabled-bg-color: #3B4455;\n",
              "      --disabled-fill-color: #666;\n",
              "  }\n",
              "\n",
              "  .colab-df-quickchart {\n",
              "    background-color: var(--bg-color);\n",
              "    border: none;\n",
              "    border-radius: 50%;\n",
              "    cursor: pointer;\n",
              "    display: none;\n",
              "    fill: var(--fill-color);\n",
              "    height: 32px;\n",
              "    padding: 0;\n",
              "    width: 32px;\n",
              "  }\n",
              "\n",
              "  .colab-df-quickchart:hover {\n",
              "    background-color: var(--hover-bg-color);\n",
              "    box-shadow: 0 1px 2px rgba(60, 64, 67, 0.3), 0 1px 3px 1px rgba(60, 64, 67, 0.15);\n",
              "    fill: var(--button-hover-fill-color);\n",
              "  }\n",
              "\n",
              "  .colab-df-quickchart-complete:disabled,\n",
              "  .colab-df-quickchart-complete:disabled:hover {\n",
              "    background-color: var(--disabled-bg-color);\n",
              "    fill: var(--disabled-fill-color);\n",
              "    box-shadow: none;\n",
              "  }\n",
              "\n",
              "  .colab-df-spinner {\n",
              "    border: 2px solid var(--fill-color);\n",
              "    border-color: transparent;\n",
              "    border-bottom-color: var(--fill-color);\n",
              "    animation:\n",
              "      spin 1s steps(1) infinite;\n",
              "  }\n",
              "\n",
              "  @keyframes spin {\n",
              "    0% {\n",
              "      border-color: transparent;\n",
              "      border-bottom-color: var(--fill-color);\n",
              "      border-left-color: var(--fill-color);\n",
              "    }\n",
              "    20% {\n",
              "      border-color: transparent;\n",
              "      border-left-color: var(--fill-color);\n",
              "      border-top-color: var(--fill-color);\n",
              "    }\n",
              "    30% {\n",
              "      border-color: transparent;\n",
              "      border-left-color: var(--fill-color);\n",
              "      border-top-color: var(--fill-color);\n",
              "      border-right-color: var(--fill-color);\n",
              "    }\n",
              "    40% {\n",
              "      border-color: transparent;\n",
              "      border-right-color: var(--fill-color);\n",
              "      border-top-color: var(--fill-color);\n",
              "    }\n",
              "    60% {\n",
              "      border-color: transparent;\n",
              "      border-right-color: var(--fill-color);\n",
              "    }\n",
              "    80% {\n",
              "      border-color: transparent;\n",
              "      border-right-color: var(--fill-color);\n",
              "      border-bottom-color: var(--fill-color);\n",
              "    }\n",
              "    90% {\n",
              "      border-color: transparent;\n",
              "      border-bottom-color: var(--fill-color);\n",
              "    }\n",
              "  }\n",
              "</style>\n",
              "\n",
              "  <script>\n",
              "    async function quickchart(key) {\n",
              "      const quickchartButtonEl =\n",
              "        document.querySelector('#' + key + ' button');\n",
              "      quickchartButtonEl.disabled = true;  // To prevent multiple clicks.\n",
              "      quickchartButtonEl.classList.add('colab-df-spinner');\n",
              "      try {\n",
              "        const charts = await google.colab.kernel.invokeFunction(\n",
              "            'suggestCharts', [key], {});\n",
              "      } catch (error) {\n",
              "        console.error('Error during call to suggestCharts:', error);\n",
              "      }\n",
              "      quickchartButtonEl.classList.remove('colab-df-spinner');\n",
              "      quickchartButtonEl.classList.add('colab-df-quickchart-complete');\n",
              "    }\n",
              "    (() => {\n",
              "      let quickchartButtonEl =\n",
              "        document.querySelector('#df-4475e2ac-6848-407d-8db2-22ea1d9d465f button');\n",
              "      quickchartButtonEl.style.display =\n",
              "        google.colab.kernel.accessAllowed ? 'block' : 'none';\n",
              "    })();\n",
              "  </script>\n",
              "</div>\n",
              "\n",
              "    </div>\n",
              "  </div>\n"
            ],
            "application/vnd.google.colaboratory.intrinsic+json": {
              "type": "dataframe",
              "summary": "{\n  \"name\": \"print('We can also see that we have far more users than there are artists')\",\n  \"rows\": 2,\n  \"fields\": [\n    {\n      \"column\": \"userId\",\n      \"properties\": {\n        \"dtype\": \"string\",\n        \"num_unique_values\": 1,\n        \"samples\": [\n          \"00000c289a1829a808ac09c00daf10bc3c4e223b\"\n        ],\n        \"semantic_type\": \"\",\n        \"description\": \"\"\n      }\n    },\n    {\n      \"column\": \"artistName\",\n      \"properties\": {\n        \"dtype\": \"string\",\n        \"num_unique_values\": 2,\n        \"samples\": [\n          \"die \\u00c4rzte\"\n        ],\n        \"semantic_type\": \"\",\n        \"description\": \"\"\n      }\n    },\n    {\n      \"column\": \"listens\",\n      \"properties\": {\n        \"dtype\": \"number\",\n        \"std\": 733.9768388716363,\n        \"min\": 1099.0,\n        \"max\": 2137.0,\n        \"num_unique_values\": 2,\n        \"samples\": [\n          1099.0\n        ],\n        \"semantic_type\": \"\",\n        \"description\": \"\"\n      }\n    }\n  ]\n}"
            }
          },
          "metadata": {}
        },
        {
          "output_type": "stream",
          "name": "stdout",
          "text": [
            "1342014 user-artist interactions\n",
            "Number of unique users - 27247\n",
            "Number of unique artists - 92024\n",
            "We can see that we have ~175 million records from interactions\n",
            "We can also see that we have far more users than there are artists\n"
          ]
        }
      ]
    },
    {
      "cell_type": "code",
      "source": [
        "# User summary\n",
        "user_sum = df.groupby(\"userId\").agg({'artistName': ['nunique'], 'listens': 'sum'}).reset_index()\n",
        "user_sum.columns = ['userId', 'nA_listen', 'n_listens']\n",
        "user_sum = user_sum.sort_values('nA_listen', ascending=False).reset_index(drop=True)\n",
        "\n",
        "# Artist summary\n",
        "artist_sum = df.groupby('artistName').agg({'userId': ['nunique'], 'listens': 'sum'}).reset_index()\n",
        "artist_sum.columns = ['artistName', 'nU_listen', 'n_listens']\n",
        "artist_sum = artist_sum.sort_values('nU_listen', ascending=False).reset_index(drop=True)"
      ],
      "metadata": {
        "id": "AgWCH8iHqqKi"
      },
      "execution_count": 6,
      "outputs": []
    },
    {
      "cell_type": "code",
      "source": [
        "def filter_lastfm_raw(df, user_sum, artist_sum, user_t=25, artist_t=25):\n",
        "    \"\"\"\n",
        "    Function to filter users and artists based on thresholds.\n",
        "    - user_t: Minimum number of artists a user must have listened to.\n",
        "    - artist_t: Minimum number of users that must have listened to an artist.\n",
        "    \"\"\"\n",
        "\n",
        "    # Filter users and artists based on thresholds\n",
        "    users_req = user_sum[user_sum['nA_listen'] > artist_t]['userId'].tolist()\n",
        "    artists_req = artist_sum[artist_sum['nU_listen'] > user_t]['artistName'].tolist()\n",
        "\n",
        "    # Create a copy of the original dataframe\n",
        "    df_main = df.copy()\n",
        "\n",
        "    # Create user and artist flags\n",
        "    df_main['user_flag'] = df_main['userId'].isin(users_req)\n",
        "    df_main['artist_flag'] = df_main['artistName'].isin(artists_req)\n",
        "\n",
        "    # Filter the dataframe\n",
        "    df_main = df_main[df_main['user_flag'] & df_main['artist_flag']]\n",
        "\n",
        "    # Print statistics\n",
        "    print(f\"# Users after filtering: {len(users_req)}\")\n",
        "    print(f\"# Artists after filtering: {len(artists_req)}\")\n",
        "\n",
        "    # Keep only relevant columns\n",
        "    df_als = df_main[['userId', 'artistName', 'listens']].copy()\n",
        "\n",
        "    # Splitting into train and test sets\n",
        "    df_als['split'] = None\n",
        "    test_idx = df_als.groupby(\"userId\")[\"artistName\"].sample(frac=0.3, random_state=2047).index\n",
        "    df_als.loc[test_idx, 'split'] = 'Test'\n",
        "    df_als.loc[df_als['split'].isna(), 'split'] = 'Train'\n",
        "\n",
        "    # Convert categorical columns for implicit modeling\n",
        "    df_als['userId'] = df_als['userId'].astype(\"category\")\n",
        "    df_als['artistName'] = df_als['artistName'].astype(\"category\")\n",
        "\n",
        "    df_als['user_ID'] = df_als['userId'].cat.codes\n",
        "    df_als['artist_ID'] = df_als['artistName'].cat.codes\n",
        "\n",
        "    # Get unique sorted users and artists after filtering\n",
        "    users_als = sorted(df_als['userId'].unique().tolist())\n",
        "    artists_als = sorted(df_als['artistName'].unique().tolist())\n",
        "\n",
        "    # Display sample data\n",
        "    print(df_als.head())\n",
        "\n",
        "    # Sample users and artists\n",
        "    print(\"Sample users:\", users_als[:5])\n",
        "    print(\"Sample artists:\", artists_als[2037:2047])\n",
        "    print(' ')\n",
        "\n",
        "    df_als_train = df_als[df_als['split'] == 'Train']\n",
        "\n",
        "    # Free up memory\n",
        "    for _ in range(2):\n",
        "        gc.collect()\n",
        "\n",
        "    # Create sparse matrix (User-Item Matrix)\n",
        "    sparse_item_user = sparse.csr_matrix((\n",
        "        df_als_train['listens'].astype(float),  # Data (listens count)\n",
        "        (df_als_train['user_ID'].values, df_als_train['artist_ID'].values)  # Row (user) and column (artist)\n",
        "    ))\n",
        "\n",
        "    # Define whether to pivot the matrix (User-Item or Item-User)\n",
        "    pivot_user_item_for_item_user = True\n",
        "\n",
        "    if pivot_user_item_for_item_user:\n",
        "        sparse_user_item = sparse_item_user.T.tocsr()  # Transpose for Item-User matrix\n",
        "    else:\n",
        "        sparse_user_item = sparse_item_user  # Keep as User-Item matrix\n",
        "\n",
        "    return df_als, df_als_train, sparse_user_item\n",
        "\n",
        "\n",
        "# ✅ **Correct Function Call**\n",
        "# Ensure that df, user_sum, and artist_sum are defined before calling the function\n",
        "df_als, df_als_train, sparse_user_item = filter_lastfm_raw(df, user_sum, artist_sum)\n",
        "\n",
        "# Print confirmation\n",
        "print(\"Processing complete! Filtered dataset and sparse matrix are ready.\")"
      ],
      "metadata": {
        "colab": {
          "base_uri": "https://localhost:8080/"
        },
        "id": "YgCc9HQFF5Ys",
        "outputId": "ce6a4d0a-b38e-42fc-bcc3-f110b1804d76"
      },
      "execution_count": 7,
      "outputs": [
        {
          "output_type": "stream",
          "name": "stdout",
          "text": [
            "# Users after filtering: 26820\n",
            "# Artists after filtering: 7150\n",
            "                                     userId             artistName  listens  \\\n",
            "1  00000c289a1829a808ac09c00daf10bc3c4e223b              die Ärzte   1099.0   \n",
            "2  00000c289a1829a808ac09c00daf10bc3c4e223b      melissa etheridge    897.0   \n",
            "3  00000c289a1829a808ac09c00daf10bc3c4e223b              elvenking    717.0   \n",
            "4  00000c289a1829a808ac09c00daf10bc3c4e223b   juliette & the licks    706.0   \n",
            "5  00000c289a1829a808ac09c00daf10bc3c4e223b  red hot chili peppers    691.0   \n",
            "\n",
            "   split  user_ID  artist_ID  \n",
            "1  Train        0       1777  \n",
            "2   Test        0       4168  \n",
            "3  Train        0       2090  \n",
            "4  Train        0       3357  \n",
            "5  Train        0       5151  \n",
            "Sample users: ['00000c289a1829a808ac09c00daf10bc3c4e223b', '00001411dc427966b17297bf4d69e7e193135d89', '00004d2ac9316e22dc007ab2243d6fcb239e707d', '000063d3fe1cf2ba248b9e3c3f0334845a27a6bf', '00007a47085b9aab8af55f52ec8846ac479ac4fe']\n",
            "Sample artists: ['el canto del loco', 'el cuarteto de nos', 'el guincho', 'el perro del mar', 'el sueño de morfeo', 'el ten eleven', 'el Último de la fila', 'el Último ke zierre', 'el-p', 'elastica']\n",
            " \n",
            "Processing complete! Filtered dataset and sparse matrix are ready.\n"
          ]
        }
      ]
    },
    {
      "cell_type": "code",
      "source": [
        "# Call the function to get the filtered and split data\n",
        "df_als_train = filter_lastfm_raw(df, user_sum, artist_sum) # Assuming df, user_sum, artist_sum are defined"
      ],
      "metadata": {
        "colab": {
          "base_uri": "https://localhost:8080/"
        },
        "id": "LJPztO51PqEE",
        "outputId": "e15ebdb8-dc33-4a58-ebc1-3a9232fc09d0"
      },
      "execution_count": 8,
      "outputs": [
        {
          "output_type": "stream",
          "name": "stdout",
          "text": [
            "# Users after filtering: 26820\n",
            "# Artists after filtering: 7150\n",
            "                                     userId             artistName  listens  \\\n",
            "1  00000c289a1829a808ac09c00daf10bc3c4e223b              die Ärzte   1099.0   \n",
            "2  00000c289a1829a808ac09c00daf10bc3c4e223b      melissa etheridge    897.0   \n",
            "3  00000c289a1829a808ac09c00daf10bc3c4e223b              elvenking    717.0   \n",
            "4  00000c289a1829a808ac09c00daf10bc3c4e223b   juliette & the licks    706.0   \n",
            "5  00000c289a1829a808ac09c00daf10bc3c4e223b  red hot chili peppers    691.0   \n",
            "\n",
            "   split  user_ID  artist_ID  \n",
            "1  Train        0       1777  \n",
            "2   Test        0       4168  \n",
            "3  Train        0       2090  \n",
            "4  Train        0       3357  \n",
            "5  Train        0       5151  \n",
            "Sample users: ['00000c289a1829a808ac09c00daf10bc3c4e223b', '00001411dc427966b17297bf4d69e7e193135d89', '00004d2ac9316e22dc007ab2243d6fcb239e707d', '000063d3fe1cf2ba248b9e3c3f0334845a27a6bf', '00007a47085b9aab8af55f52ec8846ac479ac4fe']\n",
            "Sample artists: ['el canto del loco', 'el cuarteto de nos', 'el guincho', 'el perro del mar', 'el sueño de morfeo', 'el ten eleven', 'el Último de la fila', 'el Último ke zierre', 'el-p', 'elastica']\n",
            " \n"
          ]
        }
      ]
    },
    {
      "cell_type": "code",
      "source": [
        "# Function to filter dataset\n",
        "def filter_lastfm_raw(df, user_sum, artist_sum, user_t=25, artist_t=25):\n",
        "    \"\"\"Filter users and artists based on thresholds.\"\"\"\n",
        "\n",
        "    users_req = user_sum[user_sum['nA_listen'] > artist_t]['userId'].tolist()\n",
        "    artists_req = artist_sum[artist_sum['nU_listen'] > user_t]['artistName'].tolist()\n",
        "\n",
        "    df_main = df.copy()\n",
        "    df_main['user_flag'] = df_main['userId'].isin(users_req)\n",
        "    df_main['artist_flag'] = df_main['artistName'].isin(artists_req)\n",
        "    df_main = df_main[df_main['user_flag'] & df_main['artist_flag']]\n",
        "\n",
        "    df_als = df_main[['userId', 'artistName', 'listens']].copy()\n",
        "    df_als['split'] = None\n",
        "\n",
        "    # Train-Test Split\n",
        "    test_idx = df_als.groupby(\"userId\")[\"artistName\"].sample(frac=0.3, random_state=2047).index\n",
        "    df_als.loc[test_idx, 'split'] = 'Test'\n",
        "    df_als.loc[df_als['split'].isna(), 'split'] = 'Train'\n",
        "\n",
        "    # Convert to categorical codes for MF training\n",
        "    df_als['userId'] = df_als['userId'].astype(\"category\")\n",
        "    df_als['artistName'] = df_als['artistName'].astype(\"category\")\n",
        "    df_als['user_ID'] = df_als['userId'].cat.codes\n",
        "    df_als['artist_ID'] = df_als['artistName'].cat.codes\n",
        "\n",
        "    # ✅ Define users_als and artists_als\n",
        "    users_als = sorted(df_als['user_ID'].unique().tolist())  # Fix: Using user_ID\n",
        "    artists_als = sorted(df_als['artist_ID'].unique().tolist())  # Fix: Using artist_ID\n",
        "\n",
        "    df_als_train = df_als[df_als['split'] == 'Train']\n",
        "\n",
        "    # Free memory\n",
        "    gc.collect()\n",
        "\n",
        "    # Create Sparse Matrix (User-Item)\n",
        "    sparse_item_user = sparse.csr_matrix((\n",
        "        df_als_train['listens'].astype(float).values,\n",
        "        (df_als_train['user_ID'].values, df_als_train['artist_ID'].values)\n",
        "    ))\n",
        "\n",
        "    sparse_user_item = sparse_item_user.T.tocsr()  # Transposed for Item-User Matrix\n",
        "\n",
        "    return df_als, df_als_train, sparse_user_item, users_als, artists_als\n",
        "\n",
        "# ✅ Correct function call\n",
        "df_als, df_als_train, sparse_user_item, users_als, artists_als = filter_lastfm_raw(df, user_sum, artist_sum)\n",
        "\n",
        "# Combine user_id based on the index used for MF training with original users\n",
        "user_id_dict = df_als[['userId', 'user_ID']].drop_duplicates().reset_index(drop=True)\n",
        "\n",
        "# ✅ Fixing NameError: Now users_als is properly defined!\n",
        "user_id_dict['trained_user'] = np.where(user_id_dict['user_ID'].isin(users_als), True, False)\n",
        "\n",
        "# Combine artist_id based on the index used for MF training with original artists\n",
        "artist_id_dict = df_als[['artist_ID', 'artistName']].drop_duplicates().reset_index(drop=True)\n",
        "\n",
        "# ✅ Function to compute precision and recall\n",
        "def pak(y_true, y_pred, k=10):\n",
        "    \"\"\"\n",
        "    Compute precision and recall at k.\n",
        "    \"\"\"\n",
        "    precisions = []\n",
        "    recalls = []\n",
        "\n",
        "    for i, preds in enumerate(y_pred):\n",
        "        relevant_items = [p for p in preds[:k] if p in y_true[i]]\n",
        "        precision = (len(relevant_items) * 100) / k if k > 0 else 0\n",
        "        precisions.append(precision)\n",
        "\n",
        "        recall = (len(relevant_items) * 100) / len(y_true[i]) if len(y_true[i]) > 0 else 0\n",
        "        recalls.append(recall)\n",
        "\n",
        "    return precisions, recalls"
      ],
      "metadata": {
        "id": "my9v7Rr0WqQt"
      },
      "execution_count": 15,
      "outputs": []
    },
    {
      "cell_type": "code",
      "source": [
        "# ✅ Call the function correctly\n",
        "df_als, df_als_train, sparse_user_item, users_als, artists_als = filter_lastfm_raw(df, user_sum, artist_sum)\n",
        "\n",
        "# ✅ Initialize ALS Model\n",
        "model = implicit.als.AlternatingLeastSquares(\n",
        "    factors=100,\n",
        "    regularization=0.1,\n",
        "    iterations=50,\n",
        "    num_threads=0\n",
        ")\n",
        "\n",
        "# ✅ Convert sparse matrix to confidence matrix\n",
        "df_als_conf = (sparse_user_item * 10).astype(np.float64)\n",
        "\n",
        "# ✅ Train the model\n",
        "model.fit(df_als_conf)"
      ],
      "metadata": {
        "colab": {
          "base_uri": "https://localhost:8080/",
          "height": 49,
          "referenced_widgets": [
            "5b7040d181d040e2b00d66b695f5777a",
            "c4842a841d90402d8975ee8caac77b78",
            "92c8893ecbda4695916d988b291af066",
            "0b3b0204d9884b12bffd0ee33a0c0ede",
            "50e1e6709d7443b68849fa207616f962",
            "9a703c02a38d4a2898ae18b76a74fdf7",
            "2376c9ff16494f77a3371e135f349720",
            "5faa559c8a0a44ad810c812607a36a22",
            "93e70d6b294c4ceab86943f137379b3b",
            "4de0c5541e6b4b1e83fcd384b340c9ff",
            "48b7a53f68d84083bf631ea6847023dc"
          ]
        },
        "id": "Bf28K6aNjj29",
        "outputId": "82834b14-c5cc-401f-9529-1327c5f78c39"
      },
      "execution_count": 23,
      "outputs": [
        {
          "output_type": "display_data",
          "data": {
            "text/plain": [
              "  0%|          | 0/50 [00:00<?, ?it/s]"
            ],
            "application/vnd.jupyter.widget-view+json": {
              "version_major": 2,
              "version_minor": 0,
              "model_id": "5b7040d181d040e2b00d66b695f5777a"
            }
          },
          "metadata": {}
        }
      ]
    },
    {
      "cell_type": "code",
      "source": [
        "# ✅ Recommendation Process\n",
        "n_rec = 100  # Number of top recommendations\n",
        "\n",
        "# ✅ Fixed variable: Using 'user_ID' instead of 'user_TD'\n",
        "users_to_rec = list(user_id_dict[user_id_dict['trained_user']]['user_ID'].values[:1080])\n",
        "\n",
        "# ✅ Fixed typo in function name\n",
        "als_rec_artists = model.recommend(users_to_rec, sparse_user_item[users_to_rec, :], n_rec, filter_already_liked_items=True)\n",
        "\n",
        "# ✅ Convert predictions and true values into lists\n",
        "y_pred_als = als_rec_artists[0].tolist()\n",
        "\n",
        "# ✅ Fixed incorrect syntax for filtering test set\n",
        "y_true_als = df_als[df_als['split'] == 'Test'].groupby('user_ID')['artist_ID'].apply(list).reindex(users_to_rec, fill_value=[]).tolist()\n",
        "\n",
        "# ✅ Compute metrics\n",
        "precisions_als, recalls_als = pak(y_true_als, y_pred_als, k=50)\n",
        "\n",
        "# ✅ Display metrics\n",
        "print(f\"Precision@50: {np.mean(precisions_als):.2f}%\")\n",
        "print(f\"Recall@50: {np.mean(recalls_als):.2f}%\")"
      ],
      "metadata": {
        "colab": {
          "base_uri": "https://localhost:8080/"
        },
        "id": "EAeucrJbhkUe",
        "outputId": "9b3467df-a67a-43d3-8100-33635746af66"
      },
      "execution_count": 24,
      "outputs": [
        {
          "output_type": "stream",
          "name": "stdout",
          "text": [
            "Precision@50: 0.05%\n",
            "Recall@50: 0.25%\n"
          ]
        }
      ]
    },
    {
      "cell_type": "code",
      "source": [
        "# ✅ Create subplots\n",
        "fig, ax = plt.subplots(1, 2, figsize=(12, 4))\n",
        "fig.suptitle(\"CF MF\", fontsize=16)  # ✅ Fix `fig-suptitle` → `fig.suptitle`\n",
        "\n",
        "# ✅ Plot precision and recall distributions\n",
        "sns.histplot(precisions_als, ax=ax[0], kde=True)  # ✅ `distplot` is deprecated, use `histplot`\n",
        "sns.histplot(recalls_als, ax=ax[1], kde=True)\n",
        "\n",
        "# ✅ Set titles\n",
        "ax[0].set_title(\"Precision by User\")  # ✅ Fix `ax[®]` → `ax[0]`\n",
        "ax[1].set_title(\"Recall by User\")  # ✅ Fix `ax[1]-set_title` → `ax[1].set_title`\n",
        "\n",
        "# ✅ Adjust layout\n",
        "fig.tight_layout()\n",
        "\n",
        "# ✅ Print metrics\n",
        "print(\"📊 Metrics for MF-based CF:\")\n",
        "print(\"🔹 Average Precision:\", np.mean(precisions_als))\n",
        "print(\"🔹 Average Recall:\", np.mean(recalls_als))"
      ],
      "metadata": {
        "colab": {
          "base_uri": "https://localhost:8080/",
          "height": 546
        },
        "id": "1Ddt88kEhnmm",
        "outputId": "ea9d86b0-a62a-46f8-8114-87bfe961567f"
      },
      "execution_count": 25,
      "outputs": [
        {
          "output_type": "execute_result",
          "data": {
            "text/plain": [
              "Text(0.5, 0.98, 'CF MF')"
            ]
          },
          "metadata": {},
          "execution_count": 25
        },
        {
          "output_type": "execute_result",
          "data": {
            "text/plain": [
              "<Axes: ylabel='Count'>"
            ]
          },
          "metadata": {},
          "execution_count": 25
        },
        {
          "output_type": "execute_result",
          "data": {
            "text/plain": [
              "<Axes: ylabel='Count'>"
            ]
          },
          "metadata": {},
          "execution_count": 25
        },
        {
          "output_type": "execute_result",
          "data": {
            "text/plain": [
              "Text(0.5, 1.0, 'Precision by User')"
            ]
          },
          "metadata": {},
          "execution_count": 25
        },
        {
          "output_type": "execute_result",
          "data": {
            "text/plain": [
              "Text(0.5, 1.0, 'Recall by User')"
            ]
          },
          "metadata": {},
          "execution_count": 25
        },
        {
          "output_type": "stream",
          "name": "stdout",
          "text": [
            "📊 Metrics for MF-based CF:\n",
            "🔹 Average Precision: 0.053703703703703705\n",
            "🔹 Average Recall: 0.2538788372121705\n"
          ]
        },
        {
          "output_type": "display_data",
          "data": {
            "text/plain": [
              "<Figure size 1200x400 with 2 Axes>"
            ],
            "image/png": "[encoded data removed]"
          },
          "metadata": {}
        }
      ]
    },
    {
      "cell_type": "code",
      "source": [],
      "metadata": {
        "id": "0xndZJd4moM4"
      },
      "execution_count": 25,
      "outputs": []
    }
  ]
}